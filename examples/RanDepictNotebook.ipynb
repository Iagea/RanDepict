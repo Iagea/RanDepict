{
 "cells": [
  {
   "cell_type": "code",
   "execution_count": 1,
   "metadata": {
    "scrolled": true
   },
   "outputs": [],
   "source": [
    "import os\n",
    "import ipyplot\n",
    "\n",
    "from RanDepict import RandomDepictor, DepictionFeatureRanges\n",
    "#from depiction_feature_diversity import DepictionFeatureRanges"
   ]
  },
  {
   "cell_type": "markdown",
   "metadata": {},
   "source": [
    "## Depict chemical structures with CDK, RDKit or Indigo\n",
    "\n",
    "After calling an instance of random_depictor, depictions with randomly chosen parameters are created by calling the functions\n",
    "- depict_and_resize_cdk(\n",
    "      smiles: str, \n",
    "      image_shape: Tuple[int,int]\n",
    "  )\n",
    "- depict_and_resize_rdkit(\n",
    "      smiles: str, \n",
    "      image_shape: Tuple[int,int]\n",
    "  )\n",
    "- depict_and_resize_indigo(\n",
    "      smiles: str, \n",
    "      image_shape: Tuple[int,int]\n",
    "  )\n",
    "\n",
    "\n",
    "The SMILES string needs to be given, the image_shape defaults to (299,299,3).\n",
    "\n",
    "Each of these functions returns an np.array which represents an RGB image of the chemical structure."
   ]
  },
  {
   "cell_type": "code",
   "execution_count": null,
   "metadata": {},
   "outputs": [],
   "source": [
    "smiles = \"CN1C=NC2=C1C(=O)N(C(=O)N2C)C\"\n",
    "depiction_img_shape = (299,299)\n",
    "\n",
    "# random_depictor can be called with a seed for reproducible results (defaults to 42)\n",
    "with RandomDepictor(seed = 10) as depictor:\n",
    "    # CDK depictions\n",
    "    cdk_images = []\n",
    "    for _ in range(10):\n",
    "        cdk_images.append(depictor. depict_and_resize_cdk(smiles, depiction_img_shape))\n",
    "    print(\"_________________\", \"CDK depictions\", \"_________________\")\n",
    "    ipyplot.plot_images(cdk_images, max_images=10, img_width=299)\n",
    "    \n",
    "    # RDKit Depictions\n",
    "    rdkit_images = []\n",
    "    for _ in range(10):\n",
    "        rdkit_images.append(depictor.depict_and_resize_rdkit(smiles, depiction_img_shape))\n",
    "    print(\"_________________\", \"RDKit depictions\", \"_________________\")\n",
    "    ipyplot.plot_images(rdkit_images, max_images=10, img_width=299)\n",
    "    \n",
    "    # Indigo Depictions\n",
    "    indigo_images = []\n",
    "    for _ in range(10):\n",
    "        indigo_images.append(depictor.depict_and_resize_indigo(smiles, depiction_img_shape))\n",
    "    print(\"_________________\", \"Indigo depictions\", \"_________________\")\n",
    "    ipyplot.plot_images(indigo_images, max_images=10, img_width=299)\n",
    "    \n",
    "    \n",
    "\n"
   ]
  },
  {
   "cell_type": "markdown",
   "metadata": {},
   "source": [
    "## Depict chemical structures with a random toolkit\n",
    "\n",
    "After calling an instance of random_depictor, the function\n",
    " - random_depiction(\n",
    "       smiles: str, \n",
    "       image_shape: Tuple[int,int]\n",
    "   )\n",
    " \n",
    "The SMILES string needs to be given, the image_shape defaults to (299,299).\n",
    "\n",
    "It returns an np.array which represents an RGB image of the chemical structure."
   ]
  },
  {
   "cell_type": "code",
   "execution_count": null,
   "metadata": {},
   "outputs": [],
   "source": [
    "with RandomDepictor(1) as depictor:\n",
    "    random_images = []\n",
    "    for _ in range(20):\n",
    "        random_images.append(depictor.random_depiction(smiles))\n",
    "\n",
    "ipyplot.plot_images(random_images, max_images=20, img_width=299)"
   ]
  },
  {
   "cell_type": "markdown",
   "metadata": {},
   "source": [
    "## Create random depictions with random augmentations\n",
    "\n",
    "After calling an instance of random_depictor, this instance can simply be called as a function in order to generate a chemical structure depiction using CDK, RDKit or Indigo (randomly chosen) and apply random augmentations. The augmentations consist of random imgaug augmentations and randomly added chemical ID labels or curved arrows"
   ]
  },
  {
   "cell_type": "code",
   "execution_count": null,
   "metadata": {
    "scrolled": true
   },
   "outputs": [],
   "source": [
    "with RandomDepictor() as depictor:\n",
    "    random_augmented_images = []\n",
    "    for _ in range(20):\n",
    "        #random_augmented_images.append(depictor(smiles))\n",
    "        random_augmented_images.append(depictor(smiles))\n",
    "        \n",
    "\n",
    "ipyplot.plot_images(random_augmented_images, max_images=20, img_width=299)"
   ]
  },
  {
   "cell_type": "markdown",
   "metadata": {},
   "source": [
    "## "
   ]
  },
  {
   "cell_type": "markdown",
   "metadata": {},
   "source": [
    "## Create and save a batch of images\n",
    "\n",
    "After calling an instance of random_depictor, simply call the functions\n",
    "\n",
    " - batch_depict_save(\n",
    "        self,\n",
    "        smiles_list: List[str],\n",
    "        images_per_structure: int,\n",
    "        output_dir: str,\n",
    "        shape: Tuple[int, int] = (299, 299),\n",
    "        ID_list: List[str] = False,\n",
    "        processes: int = 4,\n",
    "    )\n",
    " - def batch_depict_augment_save(\n",
    "        self,\n",
    "        smiles_list: List[str],\n",
    "        images_per_structure: int,\n",
    "        output_dir: str,\n",
    "        shape: Tuple[int, int] = (299, 299),\n",
    "        ID_list: List[str] = False,\n",
    "        processes: int = 4,\n",
    "    )\n",
    " \n",
    "with a list of SMILES, the amount of images to create per SMILES, an output directory path and the desired size of the output images. If desired, a list of IDs of the same length as smiles_list give the created images specific file names."
   ]
  },
  {
   "cell_type": "code",
   "execution_count": null,
   "metadata": {},
   "outputs": [],
   "source": [
    "if not os.path.exists('not_augmented'):\n",
    "        os.mkdir('not_augmented')\n",
    "        \n",
    "if not os.path.exists('augmented'):\n",
    "        os.mkdir('augmented')\n",
    "        \n",
    "with RandomDepictor(42) as depictor:\n",
    "    depictor.batch_depict_save([smiles], 20, 'not_augmented', (299, 299), ['caffeine'],5)\n",
    "    depictor.batch_depict_augment_save([smiles], 20, 'augmented', (299, 299), ['caffeine'],5)"
   ]
  },
  {
   "cell_type": "code",
   "execution_count": null,
   "metadata": {},
   "outputs": [],
   "source": [
    "from PIL import Image\n",
    "from itertools import cycle\n",
    "from typing import List\n",
    "\n",
    "def create_figure(images: List, im_per_row: int, im_per_col:int):\n",
    "    \"\"\"\n",
    "    Generates a grid of images in one big image\n",
    "\n",
    "    Args:\n",
    "        images (List): List of structure depictions (np.array)\n",
    "        im_per_row (int): number of images per row in grid\n",
    "        im_per_col (int): number of images per column in grid\n",
    "\n",
    "    Returns:\n",
    "        PIL.Image: Grid of images\n",
    "    \"\"\"\n",
    "    y, x, _ = images[0].shape\n",
    "    fig = Image.new('RGB', (x * im_per_row, y * im_per_col))\n",
    "    y_iter = cycle([y * i for i in range(im_per_col)])\n",
    "    for im_index in range(len(images)):\n",
    "        x_pos = int(im_index/4) * x \n",
    "        y_pos = next(y_iter)\n",
    "        pos = (x_pos, y_pos)\n",
    "        fig.paste(Image.fromarray(images[im_index]), pos)\n",
    "    return fig\n",
    "\n",
    "# Generate Figure 2 for publication\n",
    "figure_2 = create_figure(random_images, 5, 4)\n",
    "figure_2.save(\"figure_2.png\")\n",
    "# Generate Figure 3 for publication\n",
    "figure_3 = create_figure(random_augmented_images, 5, 4)\n",
    "figure_3.save(\"figure_3.png\")\n"
   ]
  },
  {
   "cell_type": "code",
   "execution_count": 5,
   "metadata": {},
   "outputs": [
    {
     "data": {
      "text/plain": [
       "{'indigo_bond_line_width': [{'position': 0,\n",
       "   'one_if': (0.5, 0.7999999999999999)},\n",
       "  {'position': 1, 'one_if': (0.8999999999999999, 1.1999999999999997)},\n",
       "  {'position': 2, 'one_if': (1.2999999999999998, 1.5999999999999996)},\n",
       "  {'position': 3, 'one_if': (1.6999999999999997, 1.9999999999999996)},\n",
       "  {'position': 4, 'one_if': (2.0999999999999996, 2.3999999999999995)}],\n",
       " 'indigo_collapse_superatoms': [{'position': 5, 'one_if': True}],\n",
       " 'indigo_labels_all': [{'position': 6, 'one_if': True}],\n",
       " 'indigo_labels_hetero': [{'position': 7, 'one_if': True}],\n",
       " 'indigo_not_kekulized': [{'position': 8, 'one_if': True}],\n",
       " 'indigo_relative_thickness': [{'position': 9, 'one_if': (0.5, 0.6)},\n",
       "  {'position': 10, 'one_if': (0.7, 0.7999999999999999)},\n",
       "  {'position': 11, 'one_if': (0.8999999999999999, 0.9999999999999999)},\n",
       "  {'position': 12, 'one_if': (1.0999999999999999, 1.1999999999999997)},\n",
       "  {'position': 13, 'one_if': (1.2999999999999998, 1.4)}],\n",
       " 'indigo_render_bold_bond': [{'position': 14, 'one_if': True}],\n",
       " 'indigo_stereo_label_style': [{'position': 15, 'one_if': 'none'},\n",
       "  {'position': 16, 'one_if': 'ext'},\n",
       "  {'position': 17, 'one_if': 'old'}]}"
      ]
     },
     "execution_count": 5,
     "metadata": {},
     "output_type": "execute_result"
    }
   ],
   "source": [
    "feature_ranges = DepictionFeatureRanges()\n",
    "schemes = feature_ranges.generate_fingerprint_schemes()\n",
    "cdk_scheme, rdkit_scheme, indigo_scheme, aug_scheme = schemes\n",
    "indigo_scheme\n",
    "\n",
    " \n"
   ]
  },
  {
   "cell_type": "code",
   "execution_count": 6,
   "metadata": {},
   "outputs": [
    {
     "name": "stdout",
     "output_type": "stream",
     "text": [
      "17\n"
     ]
    }
   ],
   "source": [
    "\n",
    "FP_length = indigo_scheme[list(indigo_scheme.keys())[-1]][-1]['position'] + 1\n",
    "\n",
    "for scheme in schemes:\n",
    "    n_FP = feature_ranges.get_number_of_possible_fingerprints(scheme)\n",
    "    print(n_FP)\n",
    "#print(FP_length)\n",
    "\n",
    "#FPs = feature_ranges.generate_all_possible_fingerprints(scheme)\n",
    "#FPs\n"
   ]
  },
  {
   "cell_type": "code",
   "execution_count": 4,
   "metadata": {},
   "outputs": [
    {
     "name": "stdout",
     "output_type": "stream",
     "text": [
      "2400\n"
     ]
    }
   ],
   "source": [
    "print(len(FPs))"
   ]
  }
 ],
 "metadata": {
  "interpreter": {
   "hash": "6852f60804c341620733aa5293bed9e5ed15ff7ee0b7c9e5cb6a467367d4a067"
  },
  "kernelspec": {
   "display_name": "RanDepict",
   "language": "python",
   "name": "python3"
  },
  "language_info": {
   "codemirror_mode": {
    "name": "ipython",
    "version": 3
   },
   "file_extension": ".py",
   "mimetype": "text/x-python",
   "name": "python",
   "nbconvert_exporter": "python",
   "pygments_lexer": "ipython3",
   "version": "3.7.10"
  }
 },
 "nbformat": 4,
 "nbformat_minor": 4
}
